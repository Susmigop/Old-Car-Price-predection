{
 "cells": [
  {
   "cell_type": "code",
   "execution_count": 1,
   "id": "cab2ff86",
   "metadata": {},
   "outputs": [],
   "source": [
    "# Importing Required Libraries\n",
    "import numpy as np\n",
    "import pandas as pd\n",
    "pd.set_option('display.max_columns', None)\n",
    "import matplotlib.pyplot as plt\n",
    "%matplotlib inline\n",
    "\n",
    "import seaborn as sns"
   ]
  },
  {
   "cell_type": "code",
   "execution_count": 2,
   "id": "051ceec5",
   "metadata": {},
   "outputs": [
    {
     "data": {
      "text/html": [
       "<div>\n",
       "<style scoped>\n",
       "    .dataframe tbody tr th:only-of-type {\n",
       "        vertical-align: middle;\n",
       "    }\n",
       "\n",
       "    .dataframe tbody tr th {\n",
       "        vertical-align: top;\n",
       "    }\n",
       "\n",
       "    .dataframe thead th {\n",
       "        text-align: right;\n",
       "    }\n",
       "</style>\n",
       "<table border=\"1\" class=\"dataframe\">\n",
       "  <thead>\n",
       "    <tr style=\"text-align: right;\">\n",
       "      <th></th>\n",
       "      <th>Price</th>\n",
       "      <th>Rating</th>\n",
       "      <th>city</th>\n",
       "      <th>Kilometers</th>\n",
       "      <th>Owner</th>\n",
       "      <th>Fuel_Type</th>\n",
       "      <th>Transmission</th>\n",
       "      <th>RTO</th>\n",
       "      <th>Insurance</th>\n",
       "      <th>Insurance_Type</th>\n",
       "      <th>year</th>\n",
       "      <th>month</th>\n",
       "      <th>Company</th>\n",
       "      <th>Model</th>\n",
       "    </tr>\n",
       "  </thead>\n",
       "  <tbody>\n",
       "    <tr>\n",
       "      <th>0</th>\n",
       "      <td>174699</td>\n",
       "      <td>4.0</td>\n",
       "      <td>3686</td>\n",
       "      <td>34854</td>\n",
       "      <td>First</td>\n",
       "      <td>Petrol</td>\n",
       "      <td>MANUAL</td>\n",
       "      <td>RTOAP</td>\n",
       "      <td>NaN</td>\n",
       "      <td>Expired</td>\n",
       "      <td>2010</td>\n",
       "      <td>5</td>\n",
       "      <td>maruti</td>\n",
       "      <td>alto lxi</td>\n",
       "    </tr>\n",
       "    <tr>\n",
       "      <th>1</th>\n",
       "      <td>333999</td>\n",
       "      <td>4.2</td>\n",
       "      <td>3686</td>\n",
       "      <td>39541</td>\n",
       "      <td>Second</td>\n",
       "      <td>Petrol</td>\n",
       "      <td>MANUAL</td>\n",
       "      <td>RTOAP</td>\n",
       "      <td>6/8/2021</td>\n",
       "      <td>Comp</td>\n",
       "      <td>2013</td>\n",
       "      <td>7</td>\n",
       "      <td>maruti</td>\n",
       "      <td>wagon r 1.0 vxi</td>\n",
       "    </tr>\n",
       "    <tr>\n",
       "      <th>2</th>\n",
       "      <td>353199</td>\n",
       "      <td>4.3</td>\n",
       "      <td>3686</td>\n",
       "      <td>23233</td>\n",
       "      <td>Second</td>\n",
       "      <td>Petrol</td>\n",
       "      <td>MANUAL</td>\n",
       "      <td>RTOAP</td>\n",
       "      <td>28/4/2021</td>\n",
       "      <td>Comp</td>\n",
       "      <td>2014</td>\n",
       "      <td>3</td>\n",
       "      <td>maruti</td>\n",
       "      <td>wagon r 1.0 vxi</td>\n",
       "    </tr>\n",
       "    <tr>\n",
       "      <th>3</th>\n",
       "      <td>237899</td>\n",
       "      <td>4.4</td>\n",
       "      <td>3686</td>\n",
       "      <td>27748</td>\n",
       "      <td>First</td>\n",
       "      <td>Petrol</td>\n",
       "      <td>MANUAL</td>\n",
       "      <td>RTOAP</td>\n",
       "      <td>1/1/2022</td>\n",
       "      <td>Comp</td>\n",
       "      <td>2013</td>\n",
       "      <td>11</td>\n",
       "      <td>hyundai</td>\n",
       "      <td>eon d lite plus</td>\n",
       "    </tr>\n",
       "    <tr>\n",
       "      <th>4</th>\n",
       "      <td>300699</td>\n",
       "      <td>4.4</td>\n",
       "      <td>3686</td>\n",
       "      <td>12238</td>\n",
       "      <td>Second</td>\n",
       "      <td>Petrol</td>\n",
       "      <td>MANUAL</td>\n",
       "      <td>RTOTS</td>\n",
       "      <td>NaN</td>\n",
       "      <td>Expired</td>\n",
       "      <td>2017</td>\n",
       "      <td>8</td>\n",
       "      <td>hyundai</td>\n",
       "      <td>eon era plus</td>\n",
       "    </tr>\n",
       "  </tbody>\n",
       "</table>\n",
       "</div>"
      ],
      "text/plain": [
       "    Price  Rating  city  Kilometers    Owner Fuel_Type Transmission    RTO  \\\n",
       "0  174699     4.0  3686       34854   First     Petrol       MANUAL  RTOAP   \n",
       "1  333999     4.2  3686       39541  Second     Petrol       MANUAL  RTOAP   \n",
       "2  353199     4.3  3686       23233  Second     Petrol       MANUAL  RTOAP   \n",
       "3  237899     4.4  3686       27748   First     Petrol       MANUAL  RTOAP   \n",
       "4  300699     4.4  3686       12238  Second     Petrol       MANUAL  RTOTS   \n",
       "\n",
       "   Insurance Insurance_Type  year  month  Company            Model  \n",
       "0        NaN        Expired  2010      5   maruti         alto lxi  \n",
       "1   6/8/2021           Comp  2013      7   maruti  wagon r 1.0 vxi  \n",
       "2  28/4/2021           Comp  2014      3   maruti  wagon r 1.0 vxi  \n",
       "3   1/1/2022           Comp  2013     11  hyundai  eon d lite plus  \n",
       "4        NaN        Expired  2017      8  hyundai     eon era plus  "
      ]
     },
     "execution_count": 2,
     "metadata": {},
     "output_type": "execute_result"
    }
   ],
   "source": [
    "data = pd.read_csv(\"cars24new.csv\")\n",
    "#data['Price'] = pd.to_numeric(data['Price'])\n",
    "data.head()"
   ]
  },
  {
   "cell_type": "code",
   "execution_count": 3,
   "id": "c02efa49",
   "metadata": {},
   "outputs": [
    {
     "name": "stdout",
     "output_type": "stream",
     "text": [
      "<class 'pandas.core.frame.DataFrame'>\n",
      "RangeIndex: 32158 entries, 0 to 32157\n",
      "Data columns (total 14 columns):\n",
      " #   Column          Non-Null Count  Dtype  \n",
      "---  ------          --------------  -----  \n",
      " 0   Price           32158 non-null  int64  \n",
      " 1   Rating          32158 non-null  float64\n",
      " 2   city            32158 non-null  int64  \n",
      " 3   Kilometers      32158 non-null  int64  \n",
      " 4   Owner           32158 non-null  object \n",
      " 5   Fuel_Type       32158 non-null  object \n",
      " 6   Transmission    29342 non-null  object \n",
      " 7   RTO             32158 non-null  object \n",
      " 8   Insurance       22965 non-null  object \n",
      " 9   Insurance_Type  32156 non-null  object \n",
      " 10  year            32158 non-null  int64  \n",
      " 11  month           32158 non-null  int64  \n",
      " 12  Company         32158 non-null  object \n",
      " 13  Model           32158 non-null  object \n",
      "dtypes: float64(1), int64(5), object(8)\n",
      "memory usage: 3.4+ MB\n"
     ]
    }
   ],
   "source": [
    "data.info()"
   ]
  },
  {
   "cell_type": "code",
   "execution_count": 4,
   "id": "3d225082",
   "metadata": {},
   "outputs": [
    {
     "data": {
      "text/plain": [
       "(32158, 14)"
      ]
     },
     "execution_count": 4,
     "metadata": {},
     "output_type": "execute_result"
    }
   ],
   "source": [
    "data.shape"
   ]
  },
  {
   "cell_type": "code",
   "execution_count": 5,
   "id": "de8eb69c",
   "metadata": {},
   "outputs": [
    {
     "data": {
      "text/plain": [
       "Index(['Price', 'Rating', 'city', 'Kilometers', 'Owner', 'Fuel_Type',\n",
       "       'Transmission', 'RTO', 'Insurance', 'Insurance_Type', 'year', 'month',\n",
       "       'Company', 'Model'],\n",
       "      dtype='object')"
      ]
     },
     "execution_count": 5,
     "metadata": {},
     "output_type": "execute_result"
    }
   ],
   "source": [
    "data.columns"
   ]
  },
  {
   "cell_type": "markdown",
   "id": "c69d3316",
   "metadata": {},
   "source": [
    "# EDA"
   ]
  },
  {
   "cell_type": "markdown",
   "id": "aacd9663",
   "metadata": {},
   "source": [
    "## In Market, which Company have more share?"
   ]
  },
  {
   "cell_type": "code",
   "execution_count": 6,
   "id": "db7d8d86",
   "metadata": {},
   "outputs": [
    {
     "data": {
      "text/plain": [
       "<AxesSubplot:title={'center':'Cars sold per company'}, xlabel='Company Name', ylabel='No. of cars sold'>"
      ]
     },
     "execution_count": 6,
     "metadata": {},
     "output_type": "execute_result"
    },
    {
     "data": {
      "image/png": "[encoded data removed]",
      "text/plain": [
       "<Figure size 864x432 with 1 Axes>"
      ]
     },
     "metadata": {
      "needs_background": "light"
     },
     "output_type": "display_data"
    }
   ],
   "source": [
    "plt.figure(figsize=(12,6))\n",
    "plt.xlabel('Company Name')\n",
    "plt.ylabel('No. of cars sold')\n",
    "plt.title('Cars sold per company')\n",
    "data['Company'].value_counts().plot(kind='bar')"
   ]
  },
  {
   "cell_type": "markdown",
   "id": "425040fa",
   "metadata": {},
   "source": [
    " * We Can clearly observed by this grapgh maruti sells the most no's of cars."
   ]
  },
  {
   "cell_type": "markdown",
   "id": "f870a04e",
   "metadata": {},
   "source": [
    "## Number of  cars purchase per year?"
   ]
  },
  {
   "cell_type": "code",
   "execution_count": 7,
   "id": "78816ada",
   "metadata": {},
   "outputs": [
    {
     "data": {
      "text/plain": [
       "<AxesSubplot:title={'center':'Cars Purchased pre year'}, xlabel='year', ylabel='No. of cars '>"
      ]
     },
     "execution_count": 7,
     "metadata": {},
     "output_type": "execute_result"
    },
    {
     "data": {
      "image/png": "[encoded data removed]",
      "text/plain": [
       "<Figure size 864x432 with 1 Axes>"
      ]
     },
     "metadata": {
      "needs_background": "light"
     },
     "output_type": "display_data"
    }
   ],
   "source": [
    "plt.figure(figsize=(12,6))\n",
    "plt.xlabel('year')\n",
    "plt.ylabel('No. of cars ')\n",
    "plt.title('Cars Purchased pre year')\n",
    "data['year'].value_counts().plot.bar()"
   ]
  },
  {
   "cell_type": "markdown",
   "id": "2daedfa5",
   "metadata": {},
   "source": [
    "## What is the average price of car varies for various types of brands?"
   ]
  },
  {
   "cell_type": "code",
   "execution_count": 8,
   "id": "97fe9c3c",
   "metadata": {},
   "outputs": [],
   "source": [
    "p = data.groupby('Company').Price.mean()"
   ]
  },
  {
   "cell_type": "code",
   "execution_count": 9,
   "id": "dbabb328",
   "metadata": {},
   "outputs": [
    {
     "data": {
      "text/plain": [
       "Company\n",
       "audi          1.573726e+06\n",
       "bmw           1.518635e+06\n",
       "chevrolet     2.036165e+05\n",
       "daewoo        3.356429e+04\n",
       "datsun        2.834298e+05\n",
       "fiat          2.426789e+05\n",
       "force         4.041773e+05\n",
       "ford          3.975448e+05\n",
       "hindustan     1.059444e+05\n",
       "honda         4.712408e+05\n",
       "hyundai       4.172228e+05\n",
       "icml          7.000000e+04\n",
       "isuzu         1.319492e+06\n",
       "jaguar        2.637736e+06\n",
       "jeep          1.638579e+06\n",
       "kia           1.801115e+06\n",
       "landrover     2.476015e+06\n",
       "mahindra      6.031117e+05\n",
       "maruti        3.723931e+05\n",
       "mercedes      1.651188e+06\n",
       "mg            1.772836e+06\n",
       "mitsubishi    5.679133e+05\n",
       "nissan        3.911729e+05\n",
       "opel          6.038462e+04\n",
       "porsche       3.257040e+06\n",
       "premier       1.600000e+05\n",
       "renault       4.569121e+05\n",
       "skoda         4.734462e+05\n",
       "ssangyong     7.099384e+05\n",
       "tata          2.974841e+05\n",
       "toyota        7.517195e+05\n",
       "volkswagen    4.641221e+05\n",
       "volvo         1.672766e+06\n",
       "Name: Price, dtype: float64"
      ]
     },
     "execution_count": 9,
     "metadata": {},
     "output_type": "execute_result"
    }
   ],
   "source": [
    "p"
   ]
  },
  {
   "cell_type": "code",
   "execution_count": 10,
   "id": "e135d825",
   "metadata": {},
   "outputs": [
    {
     "data": {
      "text/plain": [
       "<AxesSubplot:title={'center':'Average price of cars per company'}, xlabel='Company', ylabel='Average price (in lacs) in rupees'>"
      ]
     },
     "execution_count": 10,
     "metadata": {},
     "output_type": "execute_result"
    },
    {
     "data": {
      "image/png": "[encoded data removed]",
      "text/plain": [
       "<Figure size 864x432 with 1 Axes>"
      ]
     },
     "metadata": {
      "needs_background": "light"
     },
     "output_type": "display_data"
    }
   ],
   "source": [
    "plt.figure(figsize=(12,6))\n",
    "plt.xlabel('Company Name')\n",
    "plt.ylabel('Average price (in lacs) in rupees')\n",
    "p.plot(kind='bar', title = 'Average price of cars per company')"
   ]
  },
  {
   "cell_type": "markdown",
   "id": "70ee2a85",
   "metadata": {},
   "source": [
    "##  After how many kilometers car is going to resell  ?\n",
    "## To check the resell expenctancy of car with average kilometres travelled by car?\n"
   ]
  },
  {
   "cell_type": "code",
   "execution_count": 11,
   "id": "dfff1159",
   "metadata": {},
   "outputs": [],
   "source": [
    "km = data.groupby('Company').Kilometers.mean()"
   ]
  },
  {
   "cell_type": "code",
   "execution_count": 12,
   "id": "7f12da43",
   "metadata": {},
   "outputs": [
    {
     "data": {
      "text/plain": [
       "<AxesSubplot:title={'center':'km_driven vs company plot'}, xlabel='Company', ylabel='Average km_driven'>"
      ]
     },
     "execution_count": 12,
     "metadata": {},
     "output_type": "execute_result"
    },
    {
     "data": {
      "image/png": "[encoded data removed]",
      "text/plain": [
       "<Figure size 864x432 with 1 Axes>"
      ]
     },
     "metadata": {
      "needs_background": "light"
     },
     "output_type": "display_data"
    }
   ],
   "source": [
    "plt.figure(figsize=(12,6))\n",
    "plt.xlabel('Company Name')\n",
    "plt.ylabel('Average km_driven')\n",
    "km.plot(kind='bar', title = 'km_driven vs company plot')"
   ]
  },
  {
   "cell_type": "markdown",
   "id": "420cf41d",
   "metadata": {},
   "source": [
    "## Missing value Imputation"
   ]
  },
  {
   "cell_type": "code",
   "execution_count": 13,
   "id": "efa76383",
   "metadata": {},
   "outputs": [
    {
     "data": {
      "text/plain": [
       "Price                0\n",
       "Rating               0\n",
       "city                 0\n",
       "Kilometers           0\n",
       "Owner                0\n",
       "Fuel_Type            0\n",
       "Transmission      2816\n",
       "RTO                  0\n",
       "Insurance         9193\n",
       "Insurance_Type       2\n",
       "year                 0\n",
       "month                0\n",
       "Company              0\n",
       "Model                0\n",
       "dtype: int64"
      ]
     },
     "execution_count": 13,
     "metadata": {},
     "output_type": "execute_result"
    }
   ],
   "source": [
    "data.isna().sum()"
   ]
  },
  {
   "cell_type": "markdown",
   "id": "2ac36cd4",
   "metadata": {},
   "source": [
    "## Column Transmission has lots of missing value and Insurance_Type has 2 missing value"
   ]
  },
  {
   "cell_type": "code",
   "execution_count": 14,
   "id": "0f61dc2e",
   "metadata": {},
   "outputs": [
    {
     "data": {
      "text/plain": [
       "array(['MANUAL', nan, 'AUTOMATIC'], dtype=object)"
      ]
     },
     "execution_count": 14,
     "metadata": {},
     "output_type": "execute_result"
    }
   ],
   "source": [
    "data.Transmission.unique()"
   ]
  },
  {
   "cell_type": "code",
   "execution_count": 15,
   "id": "8bcb5a96",
   "metadata": {},
   "outputs": [],
   "source": [
    "from sklearn.impute import SimpleImputer\n",
    "\n",
    "mode_imputer = SimpleImputer(missing_values = np.nan, strategy = 'most_frequent')\n",
    "data['Transmission'] = pd.DataFrame(mode_imputer.fit_transform(data[['Transmission']]))\n",
    "data['Insurance_Type'] = pd.DataFrame(mode_imputer.fit_transform(data[['Insurance_Type']]))"
   ]
  },
  {
   "cell_type": "code",
   "execution_count": 16,
   "id": "deee2c94",
   "metadata": {},
   "outputs": [
    {
     "data": {
      "text/plain": [
       "array(['MANUAL', 'AUTOMATIC'], dtype=object)"
      ]
     },
     "execution_count": 16,
     "metadata": {},
     "output_type": "execute_result"
    }
   ],
   "source": [
    "data.Transmission.unique()"
   ]
  },
  {
   "cell_type": "code",
   "execution_count": 17,
   "id": "c24dc158",
   "metadata": {},
   "outputs": [
    {
     "data": {
      "text/plain": [
       "Price                0\n",
       "Rating               0\n",
       "city                 0\n",
       "Kilometers           0\n",
       "Owner                0\n",
       "Fuel_Type            0\n",
       "Transmission         0\n",
       "RTO                  0\n",
       "Insurance         9193\n",
       "Insurance_Type       0\n",
       "year                 0\n",
       "month                0\n",
       "Company              0\n",
       "Model                0\n",
       "dtype: int64"
      ]
     },
     "execution_count": 17,
     "metadata": {},
     "output_type": "execute_result"
    }
   ],
   "source": [
    "data.isna().sum()"
   ]
  },
  {
   "cell_type": "markdown",
   "id": "85293120",
   "metadata": {},
   "source": [
    "### Droping the Insurance Column Because not any good method to impute date"
   ]
  },
  {
   "cell_type": "code",
   "execution_count": 18,
   "id": "76ca3435",
   "metadata": {},
   "outputs": [],
   "source": [
    "data = data.drop('Insurance',axis=1)"
   ]
  },
  {
   "cell_type": "code",
   "execution_count": null,
   "id": "09835bc2",
   "metadata": {},
   "outputs": [],
   "source": []
  },
  {
   "cell_type": "code",
   "execution_count": 19,
   "id": "888beb85",
   "metadata": {},
   "outputs": [
    {
     "data": {
      "text/html": [
       "<div>\n",
       "<style scoped>\n",
       "    .dataframe tbody tr th:only-of-type {\n",
       "        vertical-align: middle;\n",
       "    }\n",
       "\n",
       "    .dataframe tbody tr th {\n",
       "        vertical-align: top;\n",
       "    }\n",
       "\n",
       "    .dataframe thead th {\n",
       "        text-align: right;\n",
       "    }\n",
       "</style>\n",
       "<table border=\"1\" class=\"dataframe\">\n",
       "  <thead>\n",
       "    <tr style=\"text-align: right;\">\n",
       "      <th></th>\n",
       "      <th>Price</th>\n",
       "      <th>Rating</th>\n",
       "      <th>city</th>\n",
       "      <th>Kilometers</th>\n",
       "      <th>Owner</th>\n",
       "      <th>Fuel_Type</th>\n",
       "      <th>Transmission</th>\n",
       "      <th>RTO</th>\n",
       "      <th>Insurance_Type</th>\n",
       "      <th>year</th>\n",
       "      <th>month</th>\n",
       "      <th>Company</th>\n",
       "      <th>Model</th>\n",
       "    </tr>\n",
       "  </thead>\n",
       "  <tbody>\n",
       "    <tr>\n",
       "      <th>0</th>\n",
       "      <td>174699</td>\n",
       "      <td>4.0</td>\n",
       "      <td>3686</td>\n",
       "      <td>34854</td>\n",
       "      <td>First</td>\n",
       "      <td>Petrol</td>\n",
       "      <td>MANUAL</td>\n",
       "      <td>RTOAP</td>\n",
       "      <td>Expired</td>\n",
       "      <td>2010</td>\n",
       "      <td>5</td>\n",
       "      <td>maruti</td>\n",
       "      <td>alto lxi</td>\n",
       "    </tr>\n",
       "  </tbody>\n",
       "</table>\n",
       "</div>"
      ],
      "text/plain": [
       "    Price  Rating  city  Kilometers   Owner Fuel_Type Transmission    RTO  \\\n",
       "0  174699     4.0  3686       34854  First     Petrol       MANUAL  RTOAP   \n",
       "\n",
       "  Insurance_Type  year  month Company     Model  \n",
       "0        Expired  2010      5  maruti  alto lxi  "
      ]
     },
     "execution_count": 19,
     "metadata": {},
     "output_type": "execute_result"
    }
   ],
   "source": [
    "data.head(1)"
   ]
  },
  {
   "cell_type": "markdown",
   "id": "13e62602",
   "metadata": {},
   "source": [
    "## Column Insurance_Type"
   ]
  },
  {
   "cell_type": "code",
   "execution_count": 20,
   "id": "0688c5cf",
   "metadata": {},
   "outputs": [
    {
     "data": {
      "text/plain": [
       "array(['Expired', 'Comp', 'Third_party', 'Zero_Dep', 'ZeroDepreciation',\n",
       "       '3rdParty', 'Comprehensive', 'NotAvailable', 'Normal'],\n",
       "      dtype=object)"
      ]
     },
     "execution_count": 20,
     "metadata": {},
     "output_type": "execute_result"
    }
   ],
   "source": [
    "data.Insurance_Type.unique()"
   ]
  },
  {
   "cell_type": "code",
   "execution_count": 21,
   "id": "497eab98",
   "metadata": {},
   "outputs": [],
   "source": [
    "# Replacing duplicate string \n",
    "data[\"Insurance_Type\"]=data[\"Insurance_Type\"].str.replace('Comp', 'Comprehensive')\n",
    "data[\"Insurance_Type\"]=data[\"Insurance_Type\"].str.replace('Zero_Dep', 'ZeroDepreciation')\n",
    "data[\"Insurance_Type\"]=data[\"Insurance_Type\"].str.replace('3rdParty', 'Third_party')\n",
    "#df[\"Insurance_Type\"]=data[\"Insurance_Type\"].str.replace('Normal', 'Expired')\n",
    "data[\"Insurance_Type\"]=data[\"Insurance_Type\"].str.replace('NotAvailable', 'Expired')\n"
   ]
  },
  {
   "cell_type": "code",
   "execution_count": 22,
   "id": "280996d4",
   "metadata": {},
   "outputs": [
    {
     "data": {
      "text/plain": [
       "array(['Expired', 'Comprehensive', 'Third_party', 'ZeroDepreciation',\n",
       "       'Comprehensiverehensive', 'Normal'], dtype=object)"
      ]
     },
     "execution_count": 22,
     "metadata": {},
     "output_type": "execute_result"
    }
   ],
   "source": [
    "data.Insurance_Type.unique()"
   ]
  },
  {
   "cell_type": "code",
   "execution_count": 23,
   "id": "c093f54c",
   "metadata": {},
   "outputs": [],
   "source": [
    "data[\"Insurance_Type\"]=data[\"Insurance_Type\"].str.replace('Comprehensiverehensive', 'Comprehensive')"
   ]
  },
  {
   "cell_type": "code",
   "execution_count": 24,
   "id": "b9ce437c",
   "metadata": {},
   "outputs": [
    {
     "data": {
      "text/plain": [
       "array(['Expired', 'Comprehensive', 'Third_party', 'ZeroDepreciation',\n",
       "       'Normal'], dtype=object)"
      ]
     },
     "execution_count": 24,
     "metadata": {},
     "output_type": "execute_result"
    }
   ],
   "source": [
    "data.Insurance_Type.unique()"
   ]
  },
  {
   "cell_type": "code",
   "execution_count": 25,
   "id": "ebf770c7",
   "metadata": {},
   "outputs": [
    {
     "data": {
      "text/plain": [
       "Comprehensive       11801\n",
       "Expired              9428\n",
       "Third_party          6290\n",
       "ZeroDepreciation     4634\n",
       "Normal                  5\n",
       "Name: Insurance_Type, dtype: int64"
      ]
     },
     "execution_count": 25,
     "metadata": {},
     "output_type": "execute_result"
    }
   ],
   "source": [
    "data.Insurance_Type.value_counts()"
   ]
  },
  {
   "cell_type": "markdown",
   "id": "5d976ad9",
   "metadata": {},
   "source": [
    "## Checking how many categories present in every single column"
   ]
  },
  {
   "cell_type": "code",
   "execution_count": 26,
   "id": "ed4d1207",
   "metadata": {},
   "outputs": [
    {
     "name": "stdout",
     "output_type": "stream",
     "text": [
      "Owner :  10 labels\n",
      "Fuel_Type :  6 labels\n",
      "Transmission :  2 labels\n",
      "RTO :  86 labels\n",
      "Insurance_Type :  5 labels\n",
      "Company :  33 labels\n",
      "Model :  2671 labels\n"
     ]
    }
   ],
   "source": [
    "columns = ['Owner','Fuel_Type','Transmission','RTO','Insurance_Type','Company','Model']\n",
    "for col in columns:\n",
    "    print(col, ': ', len(data[col].unique()), 'labels')"
   ]
  },
  {
   "cell_type": "markdown",
   "id": "a0720674",
   "metadata": {},
   "source": [
    "## Droping RTO "
   ]
  },
  {
   "cell_type": "code",
   "execution_count": 27,
   "id": "af67affc",
   "metadata": {},
   "outputs": [],
   "source": [
    "data = data.drop('RTO',axis=1)"
   ]
  },
  {
   "cell_type": "code",
   "execution_count": 28,
   "id": "69c3229b",
   "metadata": {},
   "outputs": [],
   "source": [
    "from sklearn.preprocessing import LabelEncoder\n",
    "\n",
    "Owner_le = LabelEncoder()\n",
    "Fuel_Type_le = LabelEncoder()\n",
    "Transmission_le = LabelEncoder()\n",
    "Insurance_Type_le = LabelEncoder()\n",
    "Company_le = LabelEncoder()\n",
    "Model_le = LabelEncoder()\n",
    "\n",
    "\n",
    "data['Owner'] = Owner_le.fit_transform(data['Owner'])\n",
    "data['Fuel_Type'] = Fuel_Type_le.fit_transform(data['Fuel_Type'])\n",
    "data['Transmission'] = Transmission_le.fit_transform(data['Transmission'])\n",
    "data['Insurance_Type'] = Insurance_Type_le.fit_transform(data['Insurance_Type'])\n",
    "data['Company'] = Company_le.fit_transform(data['Company'])\n",
    "data['Model'] = Model_le.fit_transform(data['Model'])\n"
   ]
  },
  {
   "cell_type": "code",
   "execution_count": 29,
   "id": "53669373",
   "metadata": {},
   "outputs": [
    {
     "data": {
      "text/html": [
       "<div>\n",
       "<style scoped>\n",
       "    .dataframe tbody tr th:only-of-type {\n",
       "        vertical-align: middle;\n",
       "    }\n",
       "\n",
       "    .dataframe tbody tr th {\n",
       "        vertical-align: top;\n",
       "    }\n",
       "\n",
       "    .dataframe thead th {\n",
       "        text-align: right;\n",
       "    }\n",
       "</style>\n",
       "<table border=\"1\" class=\"dataframe\">\n",
       "  <thead>\n",
       "    <tr style=\"text-align: right;\">\n",
       "      <th></th>\n",
       "      <th>Price</th>\n",
       "      <th>Rating</th>\n",
       "      <th>city</th>\n",
       "      <th>Kilometers</th>\n",
       "      <th>Owner</th>\n",
       "      <th>Fuel_Type</th>\n",
       "      <th>Transmission</th>\n",
       "      <th>Insurance_Type</th>\n",
       "      <th>year</th>\n",
       "      <th>month</th>\n",
       "      <th>Company</th>\n",
       "      <th>Model</th>\n",
       "    </tr>\n",
       "  </thead>\n",
       "  <tbody>\n",
       "    <tr>\n",
       "      <th>0</th>\n",
       "      <td>174699</td>\n",
       "      <td>4.0</td>\n",
       "      <td>3686</td>\n",
       "      <td>34854</td>\n",
       "      <td>2</td>\n",
       "      <td>3</td>\n",
       "      <td>1</td>\n",
       "      <td>1</td>\n",
       "      <td>2010</td>\n",
       "      <td>5</td>\n",
       "      <td>18</td>\n",
       "      <td>142</td>\n",
       "    </tr>\n",
       "    <tr>\n",
       "      <th>1</th>\n",
       "      <td>333999</td>\n",
       "      <td>4.2</td>\n",
       "      <td>3686</td>\n",
       "      <td>39541</td>\n",
       "      <td>5</td>\n",
       "      <td>3</td>\n",
       "      <td>1</td>\n",
       "      <td>0</td>\n",
       "      <td>2013</td>\n",
       "      <td>7</td>\n",
       "      <td>18</td>\n",
       "      <td>2470</td>\n",
       "    </tr>\n",
       "    <tr>\n",
       "      <th>2</th>\n",
       "      <td>353199</td>\n",
       "      <td>4.3</td>\n",
       "      <td>3686</td>\n",
       "      <td>23233</td>\n",
       "      <td>5</td>\n",
       "      <td>3</td>\n",
       "      <td>1</td>\n",
       "      <td>0</td>\n",
       "      <td>2014</td>\n",
       "      <td>3</td>\n",
       "      <td>18</td>\n",
       "      <td>2470</td>\n",
       "    </tr>\n",
       "    <tr>\n",
       "      <th>3</th>\n",
       "      <td>237899</td>\n",
       "      <td>4.4</td>\n",
       "      <td>3686</td>\n",
       "      <td>27748</td>\n",
       "      <td>2</td>\n",
       "      <td>3</td>\n",
       "      <td>1</td>\n",
       "      <td>0</td>\n",
       "      <td>2013</td>\n",
       "      <td>11</td>\n",
       "      <td>10</td>\n",
       "      <td>776</td>\n",
       "    </tr>\n",
       "    <tr>\n",
       "      <th>4</th>\n",
       "      <td>300699</td>\n",
       "      <td>4.4</td>\n",
       "      <td>3686</td>\n",
       "      <td>12238</td>\n",
       "      <td>5</td>\n",
       "      <td>3</td>\n",
       "      <td>1</td>\n",
       "      <td>1</td>\n",
       "      <td>2017</td>\n",
       "      <td>8</td>\n",
       "      <td>10</td>\n",
       "      <td>780</td>\n",
       "    </tr>\n",
       "  </tbody>\n",
       "</table>\n",
       "</div>"
      ],
      "text/plain": [
       "    Price  Rating  city  Kilometers  Owner  Fuel_Type  Transmission  \\\n",
       "0  174699     4.0  3686       34854      2          3             1   \n",
       "1  333999     4.2  3686       39541      5          3             1   \n",
       "2  353199     4.3  3686       23233      5          3             1   \n",
       "3  237899     4.4  3686       27748      2          3             1   \n",
       "4  300699     4.4  3686       12238      5          3             1   \n",
       "\n",
       "   Insurance_Type  year  month  Company  Model  \n",
       "0               1  2010      5       18    142  \n",
       "1               0  2013      7       18   2470  \n",
       "2               0  2014      3       18   2470  \n",
       "3               0  2013     11       10    776  \n",
       "4               1  2017      8       10    780  "
      ]
     },
     "execution_count": 29,
     "metadata": {},
     "output_type": "execute_result"
    }
   ],
   "source": [
    "data.head()"
   ]
  },
  {
   "cell_type": "code",
   "execution_count": 30,
   "id": "51c70731",
   "metadata": {},
   "outputs": [
    {
     "name": "stdout",
     "output_type": "stream",
     "text": [
      "Owner [2 5 9 3 7 1 0 6 4 8]\n",
      "['First ' 'Second ' 'Third ' 'Fourth ' 'Sixth ' 'Fifth ' 'Eighth '\n",
      " 'Seventh ' 'Ninth ' 'Tenth ']\n",
      "\n",
      "Fuel_Type: [3 0 5 4 1 2]\n",
      "['Petrol' 'Diesel' 'Petrol + LPG' 'Petrol + CNG' 'Electric' 'Hybrid']\n",
      "\n",
      "Transmission [1 0]\n",
      "['MANUAL' 'AUTOMATIC']\n",
      "\n",
      "Insurance_TypeInsurance_Type [1 0 3 4 2]\n",
      "['Expired' 'Comprehensive' 'Third_party' 'ZeroDepreciation' 'Normal']\n",
      "\n",
      "Company [18 10  9  2  7 26 31 29 17 30  4 21 22 15  5 27 23 20 32 14 19 28  1  0\n",
      "  3 13 16  6 12 24 25  8 11]\n",
      "['maruti' 'hyundai' 'honda' 'chevrolet' 'ford' 'renault' 'volkswagen'\n",
      " 'tata' 'mahindra' 'toyota' 'datsun' 'mitsubishi' 'nissan' 'kia' 'fiat'\n",
      " 'skoda' 'opel' 'mg' 'volvo' 'jeep' 'mercedes' 'ssangyong' 'bmw' 'audi'\n",
      " 'daewoo' 'jaguar' 'landrover' 'force' 'isuzu' 'porsche' 'premier'\n",
      " 'hindustan' 'icml']\n",
      "\n",
      "Model [ 142 2470  776 ... 2067  227  452]\n",
      "['alto lxi' 'wagon r 1.0 vxi' 'eon d lite plus' ...\n",
      " 'scorpio vlx at bs iii' 'baleno rs 1.0' 'ciaz s 1.4']\n"
     ]
    }
   ],
   "source": [
    "print(\"Owner\",data['Owner'].unique())\n",
    "print(Owner_le.inverse_transform(list(data['Owner'].unique())))\n",
    "print()\n",
    "print(\"Fuel_Type:\",data['Fuel_Type'].unique())\n",
    "print(Fuel_Type_le.inverse_transform(list(data['Fuel_Type'].unique())))\n",
    "print()\n",
    "print(\"Transmission\", data['Transmission'].unique())\n",
    "print(Transmission_le.inverse_transform(list(data['Transmission'].unique())))\n",
    "print()\n",
    "print(\"Insurance_TypeInsurance_Type\",data['Insurance_Type'].unique())\n",
    "print(Insurance_Type_le.inverse_transform(list(data['Insurance_Type'].unique())))\n",
    "print()\n",
    "print(\"Company\",data['Company'].unique())\n",
    "print(Company_le.inverse_transform(list(data['Company'].unique())))\n",
    "print()\n",
    "print(\"Model\",data['Model'].unique())\n",
    "print(Model_le.inverse_transform(list(data['Model'].unique())))"
   ]
  },
  {
   "cell_type": "code",
   "execution_count": null,
   "id": "51cbbc50",
   "metadata": {},
   "outputs": [],
   "source": []
  },
  {
   "cell_type": "code",
   "execution_count": 31,
   "id": "e3c6f19f",
   "metadata": {},
   "outputs": [
    {
     "name": "stderr",
     "output_type": "stream",
     "text": [
      "C:\\Users\\prash\\anaconda3\\lib\\site-packages\\seaborn\\_decorators.py:36: FutureWarning: Pass the following variable as a keyword arg: x. From version 0.12, the only valid positional argument will be `data`, and passing other arguments without an explicit keyword will result in an error or misinterpretation.\n",
      "  warnings.warn(\n"
     ]
    },
    {
     "data": {
      "text/plain": [
       "<AxesSubplot:xlabel='Kilometers'>"
      ]
     },
     "execution_count": 31,
     "metadata": {},
     "output_type": "execute_result"
    },
    {
     "data": {
      "image/png": "[encoded data removed]",
      "text/plain": [
       "<Figure size 432x288 with 1 Axes>"
      ]
     },
     "metadata": {
      "needs_background": "light"
     },
     "output_type": "display_data"
    }
   ],
   "source": [
    "#data['Kilometers'] = pd.to_numeric(data.Kilometers)\n",
    "sns.boxplot(data.Kilometers)"
   ]
  },
  {
   "cell_type": "code",
   "execution_count": 32,
   "id": "ec9f85ea",
   "metadata": {},
   "outputs": [],
   "source": [
    "Q1 = data['Kilometers'].quantile(0.25)\n",
    "Q3 = data['Kilometers'].quantile(0.75)\n",
    "IQR = Q3 - Q1"
   ]
  },
  {
   "cell_type": "code",
   "execution_count": 33,
   "id": "12667f5a",
   "metadata": {},
   "outputs": [],
   "source": [
    "((data['Kilometers'] < (Q1 - 1.5 * IQR)) | (data['Kilometers'] > (Q3 + 1.5 * IQR))).mean()\n",
    "\n",
    "mask = (data['Kilometers'] < (Q1 - 1.5 * IQR)) | (data['Kilometers'] > (Q3 + 1.5 * IQR))\n",
    "data[mask] = np.nan"
   ]
  },
  {
   "cell_type": "code",
   "execution_count": 34,
   "id": "bad2a20f",
   "metadata": {
    "scrolled": true
   },
   "outputs": [
    {
     "name": "stderr",
     "output_type": "stream",
     "text": [
      "C:\\Users\\prash\\anaconda3\\lib\\site-packages\\seaborn\\_decorators.py:36: FutureWarning: Pass the following variable as a keyword arg: x. From version 0.12, the only valid positional argument will be `data`, and passing other arguments without an explicit keyword will result in an error or misinterpretation.\n",
      "  warnings.warn(\n"
     ]
    },
    {
     "data": {
      "text/plain": [
       "<AxesSubplot:xlabel='Kilometers'>"
      ]
     },
     "execution_count": 34,
     "metadata": {},
     "output_type": "execute_result"
    },
    {
     "data": {
      "image/png": "[encoded data removed]",
      "text/plain": [
       "<Figure size 432x288 with 1 Axes>"
      ]
     },
     "metadata": {
      "needs_background": "light"
     },
     "output_type": "display_data"
    }
   ],
   "source": [
    "sns.boxplot(data.Kilometers)"
   ]
  },
  {
   "cell_type": "code",
   "execution_count": 35,
   "id": "d2c86545",
   "metadata": {},
   "outputs": [
    {
     "data": {
      "text/plain": [
       "1.0"
      ]
     },
     "execution_count": 35,
     "metadata": {},
     "output_type": "execute_result"
    }
   ],
   "source": [
    "data.Kilometers.min()"
   ]
  },
  {
   "cell_type": "code",
   "execution_count": 36,
   "id": "e6379e43",
   "metadata": {},
   "outputs": [
    {
     "data": {
      "text/plain": [
       "196318.0"
      ]
     },
     "execution_count": 36,
     "metadata": {},
     "output_type": "execute_result"
    }
   ],
   "source": [
    "data.Kilometers.max() "
   ]
  },
  {
   "cell_type": "code",
   "execution_count": 37,
   "id": "e5dde7c4",
   "metadata": {},
   "outputs": [
    {
     "data": {
      "text/plain": [
       "Price             0.026028\n",
       "Rating            0.026028\n",
       "city              0.026028\n",
       "Kilometers        0.026028\n",
       "Owner             0.026028\n",
       "Fuel_Type         0.026028\n",
       "Transmission      0.026028\n",
       "Insurance_Type    0.026028\n",
       "year              0.026028\n",
       "month             0.026028\n",
       "Company           0.026028\n",
       "Model             0.026028\n",
       "dtype: float64"
      ]
     },
     "execution_count": 37,
     "metadata": {},
     "output_type": "execute_result"
    }
   ],
   "source": [
    "data.isnull().mean()"
   ]
  },
  {
   "cell_type": "code",
   "execution_count": 38,
   "id": "bb438079",
   "metadata": {},
   "outputs": [],
   "source": [
    "data.dropna(axis=0,inplace=True)"
   ]
  },
  {
   "cell_type": "code",
   "execution_count": 39,
   "id": "679eb1c0",
   "metadata": {},
   "outputs": [
    {
     "data": {
      "text/plain": [
       "Price             0\n",
       "Rating            0\n",
       "city              0\n",
       "Kilometers        0\n",
       "Owner             0\n",
       "Fuel_Type         0\n",
       "Transmission      0\n",
       "Insurance_Type    0\n",
       "year              0\n",
       "month             0\n",
       "Company           0\n",
       "Model             0\n",
       "dtype: int64"
      ]
     },
     "execution_count": 39,
     "metadata": {},
     "output_type": "execute_result"
    }
   ],
   "source": [
    "data.isnull().sum()"
   ]
  },
  {
   "cell_type": "code",
   "execution_count": 40,
   "id": "2a607592",
   "metadata": {},
   "outputs": [],
   "source": [
    "#sns.pairplot(data)"
   ]
  },
  {
   "cell_type": "markdown",
   "id": "cd802073",
   "metadata": {},
   "source": [
    "## Checking Skewness"
   ]
  },
  {
   "cell_type": "code",
   "execution_count": 41,
   "id": "8ed3d318",
   "metadata": {},
   "outputs": [
    {
     "data": {
      "text/plain": [
       "Price             4.497165\n",
       "Rating           -2.399242\n",
       "city              0.218477\n",
       "Kilometers        0.533475\n",
       "Owner             1.364083\n",
       "Fuel_Type        -0.016106\n",
       "Transmission     -2.949542\n",
       "Insurance_Type    0.567147\n",
       "year             -0.912811\n",
       "month             0.205311\n",
       "Company           0.259559\n",
       "Model             0.063105\n",
       "dtype: float64"
      ]
     },
     "execution_count": 41,
     "metadata": {},
     "output_type": "execute_result"
    }
   ],
   "source": [
    "data.skew()"
   ]
  },
  {
   "cell_type": "code",
   "execution_count": 42,
   "id": "936f22f2",
   "metadata": {},
   "outputs": [],
   "source": [
    "data['Price'] = np.log(data['Price']+1)"
   ]
  },
  {
   "cell_type": "code",
   "execution_count": 43,
   "id": "c0cf18e8",
   "metadata": {},
   "outputs": [],
   "source": [
    "from scipy import stats\n",
    "data['Rating'],param = stats.boxcox(data['Rating']+1)\n"
   ]
  },
  {
   "cell_type": "code",
   "execution_count": 44,
   "id": "ba1ee4e4",
   "metadata": {},
   "outputs": [
    {
     "data": {
      "text/plain": [
       "Price            -0.494860\n",
       "Rating           -0.018623\n",
       "city              0.218477\n",
       "Kilometers        0.533475\n",
       "Owner             1.364083\n",
       "Fuel_Type        -0.016106\n",
       "Transmission     -2.949542\n",
       "Insurance_Type    0.567147\n",
       "year             -0.912811\n",
       "month             0.205311\n",
       "Company           0.259559\n",
       "Model             0.063105\n",
       "dtype: float64"
      ]
     },
     "execution_count": 44,
     "metadata": {},
     "output_type": "execute_result"
    }
   ],
   "source": [
    "data.skew()"
   ]
  },
  {
   "cell_type": "markdown",
   "id": "f530a488",
   "metadata": {},
   "source": [
    "We can clearly observed by these grapgh data points is not follow linear pattern, So linear models is not good for this dataset."
   ]
  },
  {
   "cell_type": "markdown",
   "id": "abe41db7",
   "metadata": {},
   "source": [
    "## Seprating the Dependent or Independent Features"
   ]
  },
  {
   "cell_type": "code",
   "execution_count": 45,
   "id": "8cfb369c",
   "metadata": {},
   "outputs": [],
   "source": [
    "X = data.drop('Price',axis='columns')\n",
    "y = data.Price"
   ]
  },
  {
   "cell_type": "code",
   "execution_count": 46,
   "id": "80a5d674",
   "metadata": {},
   "outputs": [],
   "source": [
    "# Spliting the data into Training set & Test set\n",
    "from sklearn.model_selection import train_test_split\n",
    "X_train, X_test, y_train, y_test = train_test_split(X,y, test_size=0.2, random_state=0)"
   ]
  },
  {
   "cell_type": "markdown",
   "id": "c56d1110",
   "metadata": {},
   "source": [
    "#### No need to do Scaling because with scaling and without scaling result same"
   ]
  },
  {
   "cell_type": "markdown",
   "id": "1928192d",
   "metadata": {},
   "source": [
    "## --------------------------------- Modeling --------------------------------------------"
   ]
  },
  {
   "cell_type": "code",
   "execution_count": 47,
   "id": "15cba112",
   "metadata": {},
   "outputs": [
    {
     "data": {
      "text/plain": [
       "LinearRegression()"
      ]
     },
     "execution_count": 47,
     "metadata": {},
     "output_type": "execute_result"
    }
   ],
   "source": [
    " #  Linear Regression\n",
    "from sklearn.linear_model import LinearRegression\n",
    "lr_reg = LinearRegression()\n",
    "lr_reg.fit(X_train, y_train)"
   ]
  },
  {
   "cell_type": "code",
   "execution_count": 48,
   "id": "aa111698",
   "metadata": {},
   "outputs": [
    {
     "data": {
      "text/plain": [
       "0.7243058261829012"
      ]
     },
     "execution_count": 48,
     "metadata": {},
     "output_type": "execute_result"
    }
   ],
   "source": [
    "y_pred_train = lr_reg.predict(X_train)\n",
    "from sklearn.metrics import r2_score\n",
    "r2_score(y_train, y_pred_train)"
   ]
  },
  {
   "cell_type": "code",
   "execution_count": 49,
   "id": "16856942",
   "metadata": {},
   "outputs": [
    {
     "data": {
      "text/plain": [
       "0.7022872601626797"
      ]
     },
     "execution_count": 49,
     "metadata": {},
     "output_type": "execute_result"
    }
   ],
   "source": [
    "y_pred_lr_reg = lr_reg.predict(X_test)\n",
    "from sklearn.metrics import r2_score\n",
    "r2_score(y_test, y_pred_lr_reg)"
   ]
  },
  {
   "cell_type": "code",
   "execution_count": 50,
   "id": "45a071c3",
   "metadata": {},
   "outputs": [
    {
     "data": {
      "text/plain": [
       "LinearRegression()"
      ]
     },
     "execution_count": 50,
     "metadata": {},
     "output_type": "execute_result"
    }
   ],
   "source": [
    " #  Polynomial\n",
    "from sklearn.preprocessing import PolynomialFeatures\n",
    "from sklearn.linear_model import LinearRegression\n",
    "poly_reg = PolynomialFeatures(degree = 2)\n",
    "X_poly = poly_reg.fit_transform(X_train)\n",
    "regressor = LinearRegression()\n",
    "regressor.fit(X_poly, y_train)"
   ]
  },
  {
   "cell_type": "code",
   "execution_count": 51,
   "id": "2b4974fe",
   "metadata": {},
   "outputs": [
    {
     "data": {
      "text/plain": [
       "0.7298305346480466"
      ]
     },
     "execution_count": 51,
     "metadata": {},
     "output_type": "execute_result"
    }
   ],
   "source": [
    "y_pred_poly = regressor.predict(poly_reg.transform(X_test))\n",
    "from sklearn.metrics import r2_score\n",
    "r2_score(y_test, y_pred_poly)"
   ]
  },
  {
   "cell_type": "code",
   "execution_count": 52,
   "id": "de354742",
   "metadata": {},
   "outputs": [
    {
     "data": {
      "text/plain": [
       "DecisionTreeRegressor(random_state=0)"
      ]
     },
     "execution_count": 52,
     "metadata": {},
     "output_type": "execute_result"
    }
   ],
   "source": [
    "# Decission Tree\n",
    "from sklearn.tree import DecisionTreeRegressor\n",
    "tree = DecisionTreeRegressor(random_state=0)\n",
    "tree.fit(X_train,y_train)    "
   ]
  },
  {
   "cell_type": "code",
   "execution_count": 53,
   "id": "e4c61f57",
   "metadata": {},
   "outputs": [
    {
     "data": {
      "text/plain": [
       "0.8215006100337989"
      ]
     },
     "execution_count": 53,
     "metadata": {},
     "output_type": "execute_result"
    }
   ],
   "source": [
    "# Get r2_score\n",
    "y_pred_tree = tree.predict(X_test)\n",
    "from sklearn.metrics import r2_score\n",
    "r2_score(y_test, y_pred_tree)"
   ]
  },
  {
   "cell_type": "code",
   "execution_count": null,
   "id": "48389b75",
   "metadata": {},
   "outputs": [],
   "source": []
  },
  {
   "cell_type": "code",
   "execution_count": 54,
   "id": "e9628d50",
   "metadata": {
    "scrolled": true
   },
   "outputs": [
    {
     "data": {
      "text/plain": [
       "RandomForestRegressor(n_estimators=110, random_state=1)"
      ]
     },
     "execution_count": 54,
     "metadata": {},
     "output_type": "execute_result"
    }
   ],
   "source": [
    "# Random Forest\n",
    "from sklearn.ensemble import RandomForestRegressor\n",
    "forest = RandomForestRegressor(n_estimators=110,random_state=1)\n",
    "forest.fit(X_train,y_train)"
   ]
  },
  {
   "cell_type": "code",
   "execution_count": 55,
   "id": "0db871c5",
   "metadata": {},
   "outputs": [],
   "source": [
    "y_predict=forest.predict(X_test)\n",
    "y_predict_train=forest.predict(X_train)"
   ]
  },
  {
   "cell_type": "code",
   "execution_count": 56,
   "id": "0c0d6643",
   "metadata": {},
   "outputs": [],
   "source": [
    "from sklearn.metrics import r2_score"
   ]
  },
  {
   "cell_type": "code",
   "execution_count": 57,
   "id": "31e0e5bf",
   "metadata": {},
   "outputs": [
    {
     "name": "stdout",
     "output_type": "stream",
     "text": [
      "Random Forest Train r2_score 0.9891251369642784\n"
     ]
    }
   ],
   "source": [
    "print('Random Forest Train r2_score',r2_score(y_train,y_predict_train))"
   ]
  },
  {
   "cell_type": "code",
   "execution_count": 58,
   "id": "8f06f4c1",
   "metadata": {},
   "outputs": [
    {
     "name": "stdout",
     "output_type": "stream",
     "text": [
      "Random Forest Test r2_score 0.889455245571889\n"
     ]
    }
   ],
   "source": [
    "print('Random Forest Test r2_score',r2_score(y_test,y_predict))"
   ]
  },
  {
   "cell_type": "code",
   "execution_count": 59,
   "id": "c895a87b",
   "metadata": {},
   "outputs": [
    {
     "data": {
      "text/plain": [
       "AdaBoostRegressor(learning_rate=0.05, loss='exponential', n_estimators=57)"
      ]
     },
     "execution_count": 59,
     "metadata": {},
     "output_type": "execute_result"
    }
   ],
   "source": [
    "from sklearn.ensemble import AdaBoostRegressor\n",
    "ada_boost = AdaBoostRegressor(n_estimators=57, learning_rate=0.05, loss='exponential')\n",
    "ada_boost.fit(X_train,y_train)"
   ]
  },
  {
   "cell_type": "code",
   "execution_count": 60,
   "id": "da5be843",
   "metadata": {},
   "outputs": [
    {
     "name": "stdout",
     "output_type": "stream",
     "text": [
      "Ada Boost Test r2_score 0.6406460149955318\n",
      "Ada Boost Test r2_score 0.6696677609807411\n"
     ]
    }
   ],
   "source": [
    "y_pred_ada_boost = ada_boost.predict(X_test)\n",
    "y_pred_ada_train = ada_boost.predict(X_train)\n",
    "\n",
    "from sklearn.metrics import r2_score\n",
    "print('Ada Boost Test r2_score',r2_score(y_test, y_pred_ada_boost))\n",
    "print('Ada Boost Test r2_score',r2_score(y_train, y_pred_ada_train))"
   ]
  },
  {
   "cell_type": "code",
   "execution_count": 61,
   "id": "01b84061",
   "metadata": {},
   "outputs": [
    {
     "data": {
      "text/plain": [
       "GradientBoostingRegressor(learning_rate=0.3, max_depth=6, n_estimators=247)"
      ]
     },
     "execution_count": 61,
     "metadata": {},
     "output_type": "execute_result"
    }
   ],
   "source": [
    "# Use Gradient Boost \n",
    "from sklearn.ensemble import GradientBoostingRegressor\n",
    "gb_m = GradientBoostingRegressor(n_estimators=247, max_depth=6, learning_rate=0.3)\n",
    "gb_m.fit(X_train,y_train)\n",
    "    "
   ]
  },
  {
   "cell_type": "code",
   "execution_count": 62,
   "id": "580cb042",
   "metadata": {},
   "outputs": [
    {
     "name": "stdout",
     "output_type": "stream",
     "text": [
      "Gradirnt Boost Train r2_score 0.9806206623192818\n"
     ]
    }
   ],
   "source": [
    "y_pred_gb_train = gb_m.predict(X_train)\n",
    "from sklearn.metrics import r2_score\n",
    "print('Gradirnt Boost Train r2_score',r2_score(y_train, y_pred_gb_train))"
   ]
  },
  {
   "cell_type": "code",
   "execution_count": 63,
   "id": "8c8745ed",
   "metadata": {},
   "outputs": [
    {
     "name": "stdout",
     "output_type": "stream",
     "text": [
      "Gradirnt Boost Test r2_score 0.9043851977956061\n"
     ]
    }
   ],
   "source": [
    "y_pred_gb = gb_m.predict(X_test)\n",
    "from sklearn.metrics import r2_score\n",
    "print('Gradirnt Boost Test r2_score',r2_score(y_test, y_pred_gb))"
   ]
  },
  {
   "cell_type": "code",
   "execution_count": 64,
   "id": "c57ba171",
   "metadata": {},
   "outputs": [
    {
     "data": {
      "text/plain": [
       "XGBRegressor(base_score=0.5, booster='gbtree', colsample_bylevel=1,\n",
       "             colsample_bynode=1, colsample_bytree=1, gamma=0, gpu_id=-1,\n",
       "             importance_type='gain', interaction_constraints='',\n",
       "             learning_rate=0.300000012, max_delta_step=0, max_depth=6,\n",
       "             min_child_weight=1, missing=nan, monotone_constraints='()',\n",
       "             n_estimators=100, n_jobs=8, num_parallel_tree=1, random_state=0,\n",
       "             reg_alpha=0, reg_lambda=1, scale_pos_weight=1, subsample=1,\n",
       "             tree_method='exact', validate_parameters=1, verbosity=None)"
      ]
     },
     "execution_count": 64,
     "metadata": {},
     "output_type": "execute_result"
    }
   ],
   "source": [
    "from xgboost import XGBRegressor\n",
    "xgbr = XGBRegressor()\n",
    "xgbr.fit(X_train,y_train)"
   ]
  },
  {
   "cell_type": "code",
   "execution_count": 65,
   "id": "4ed593fd",
   "metadata": {},
   "outputs": [
    {
     "name": "stdout",
     "output_type": "stream",
     "text": [
      "Xtream Gradirnt Boost Train r2_score 0.96237283187598\n",
      "Xtream Gradirnt Boost Test r2_score 0.9039794818515334\n"
     ]
    }
   ],
   "source": [
    "y_pred_xgbr_train = xgbr.predict(X_train)\n",
    "y_pred_xgbr = xgbr.predict(X_test)\n",
    "\n",
    "from sklearn.metrics import r2_score\n",
    "\n",
    "print('Xtream Gradirnt Boost Train r2_score',r2_score(y_train, y_pred_xgbr_train))\n",
    "print('Xtream Gradirnt Boost Test r2_score',r2_score(y_test, y_pred_xgbr))"
   ]
  },
  {
   "cell_type": "code",
   "execution_count": null,
   "id": "ba2b1f4a",
   "metadata": {},
   "outputs": [],
   "source": []
  },
  {
   "cell_type": "markdown",
   "id": "54cd323b",
   "metadata": {},
   "source": [
    "## Random Forest Hyper-Parameter Tunning"
   ]
  },
  {
   "cell_type": "code",
   "execution_count": 66,
   "id": "2e5ea692",
   "metadata": {},
   "outputs": [],
   "source": [
    "#from sklearn.model_selection import GridSearchCV"
   ]
  },
  {
   "cell_type": "code",
   "execution_count": 67,
   "id": "c7e61b03",
   "metadata": {},
   "outputs": [],
   "source": [
    "#param_grid = {  'bootstrap': [True], 'max_depth': [5, 10, None], 'max_features': ['auto', 'log2'], 'n_estimators': [95,96,97,98,99,100,110,111,112,113]}"
   ]
  },
  {
   "cell_type": "code",
   "execution_count": 68,
   "id": "c9da86ea",
   "metadata": {},
   "outputs": [],
   "source": [
    "#rfr = RandomForestRegressor(random_state = 1)\n",
    "\n",
    "#g_search = GridSearchCV(estimator = rfr, param_grid = param_grid, cv = 3, n_jobs = 1, verbose = 0, return_train_score=True)\n",
    "\n",
    "#g_search.fit(X_train,y_train)"
   ]
  },
  {
   "cell_type": "code",
   "execution_count": 69,
   "id": "119a73c4",
   "metadata": {},
   "outputs": [],
   "source": [
    "#g_search.best_params_"
   ]
  },
  {
   "cell_type": "markdown",
   "id": "9302cba9",
   "metadata": {},
   "source": [
    "## Ada_boost Hyper-Parameter Tunning"
   ]
  },
  {
   "cell_type": "code",
   "execution_count": null,
   "id": "3e8f7fdf",
   "metadata": {},
   "outputs": [],
   "source": []
  },
  {
   "cell_type": "code",
   "execution_count": 70,
   "id": "f50634e1",
   "metadata": {},
   "outputs": [],
   "source": [
    "#param_grid = {\n",
    " #'n_estimators': [55,56,57,58,59,60,61,62,63,63,65],\n",
    " #'learning_rate' : [0.01,0.05,0.1,0.3,1],\n",
    " #'loss' : ['linear', 'square', 'exponential'],\n",
    " #'max_depth' : [3,4,5,6]\n",
    " #}\n"
   ]
  },
  {
   "cell_type": "code",
   "execution_count": 71,
   "id": "e2f64c6c",
   "metadata": {},
   "outputs": [],
   "source": [
    "#abr = AdaBoostRegressor()\n",
    "\n",
    "#ada_g_search = GridSearchCV(abr, param_grid = param_grid, cv=3, n_jobs=-1)\n",
    "\n",
    "#ada_g_search.fit(X_train, y_train)"
   ]
  },
  {
   "cell_type": "code",
   "execution_count": 72,
   "id": "8c301bc1",
   "metadata": {},
   "outputs": [],
   "source": [
    "#ada_g_search.best_params_"
   ]
  },
  {
   "cell_type": "markdown",
   "id": "6bedbb9d",
   "metadata": {},
   "source": [
    "## Gradient Boost Hyper-Parameter Tunning"
   ]
  },
  {
   "cell_type": "code",
   "execution_count": 73,
   "id": "b3e83ec3",
   "metadata": {},
   "outputs": [],
   "source": [
    "#param_grid = {\n",
    "# 'n_estimators': [245,246,247,248,249,250,251,252,253,254],\n",
    "# 'learning_rate' : [0.3,0.4],\n",
    " \n",
    "# 'max_depth' : [5,6,7]\n",
    "# }\n"
   ]
  },
  {
   "cell_type": "code",
   "execution_count": 74,
   "id": "241ba771",
   "metadata": {},
   "outputs": [],
   "source": [
    "#gbr = GradientBoostingRegressor()"
   ]
  },
  {
   "cell_type": "code",
   "execution_count": 75,
   "id": "cf6b3dcd",
   "metadata": {},
   "outputs": [],
   "source": [
    "#gbr_g_search = GridSearchCV(gbr, param_grid = param_grid, cv=3, n_jobs=-1)\n",
    "\n",
    "#gbr_g_search.fit(X_train, y_train)"
   ]
  },
  {
   "cell_type": "code",
   "execution_count": 76,
   "id": "951bd733",
   "metadata": {},
   "outputs": [],
   "source": [
    "#gbr_g_search.best_params_"
   ]
  },
  {
   "cell_type": "markdown",
   "id": "29c26756",
   "metadata": {},
   "source": [
    "## XGB Regressor Hyper-Parameter tunning"
   ]
  },
  {
   "cell_type": "code",
   "execution_count": 77,
   "id": "14763c3d",
   "metadata": {},
   "outputs": [],
   "source": [
    "#param_grid = {\n",
    " #       'learning_rate': [0.01, 0.1],\n",
    "  #      'max_depth': [3, 5, 7, 10],\n",
    "   #     'min_child_weight': [1, 3, 5],\n",
    "    #    'subsample': [0.5, 0.7],\n",
    " #       'colsample_bytree': [0.5, 0.7],\n",
    "  #      'n_estimators' : [100, 200, 500],\n",
    "   #     'objective': ['reg:squarederror']\n",
    " #}\n"
   ]
  },
  {
   "cell_type": "code",
   "execution_count": 78,
   "id": "ca89cb72",
   "metadata": {},
   "outputs": [],
   "source": [
    "#xgbr = XGBRegressor()"
   ]
  },
  {
   "cell_type": "code",
   "execution_count": 79,
   "id": "963682f5",
   "metadata": {},
   "outputs": [],
   "source": [
    "#xgbr_g_search = GridSearchCV(estimator = xgbr,\n",
    " #                          param_grid = param_grid,                        \n",
    "  #                         scoring = 'neg_mean_squared_error',\n",
    "   #                        cv = 5,\n",
    "    #                       n_jobs = -1,\n",
    "     #                      verbose = 1)\n",
    "#xgbr_g_search.fit(X_train, y_train)"
   ]
  },
  {
   "cell_type": "code",
   "execution_count": 80,
   "id": "a6afe337",
   "metadata": {},
   "outputs": [],
   "source": [
    "#xgbr_g_search.best_params_"
   ]
  },
  {
   "cell_type": "code",
   "execution_count": null,
   "id": "5e6618b2",
   "metadata": {},
   "outputs": [],
   "source": []
  }
 ],
 "metadata": {
  "kernelspec": {
   "display_name": "Python 3",
   "language": "python",
   "name": "python3"
  },
  "language_info": {
   "codemirror_mode": {
    "name": "ipython",
    "version": 3
   },
   "file_extension": ".py",
   "mimetype": "text/x-python",
   "name": "python",
   "nbconvert_exporter": "python",
   "pygments_lexer": "ipython3",
   "version": "3.8.10"
  }
 },
 "nbformat": 4,
 "nbformat_minor": 5
}
