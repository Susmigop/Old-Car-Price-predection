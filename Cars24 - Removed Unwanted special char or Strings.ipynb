{
 "cells": [
  {
   "cell_type": "markdown",
   "id": "913c38bc",
   "metadata": {},
   "source": [
    "## Final Project \n",
    "**Dataset:** The data is scrapped from cars24.com in month of march-2021 .Since \n",
    "the data is scrapped from live website ,the data is uncleaned.\n",
    "Detailed explanation of the site: https://www.cars24.com/faq/\n",
    "Problem statement: Given the features of the car ,predict the selling price of \n",
    "that used car.\n",
    "\n",
    "**Features:**\n",
    "\n",
    "Independent variables\n",
    "\n",
    "* Name:Car Model name along with purchase year of the car.\n",
    "* Rating:Rating given while car inspection by cars 24 team.\n",
    "* City: City of that car placed for advertainment ,city is given interms of code format.\n",
    "* Kilometres:How many kilometres that particular car has driven for before placing that advertisement .\n",
    "* Year of purchase :Original Date of purchase of that car.\n",
    "* Owner:How many previous owners it had before selling on cars24 site.\n",
    "* Fuel type:Type of fuel which car runs on.(Petrol, diesel …) \n",
    "* Transmission:whether car is automated or manual transmission.\n",
    "* RT0: Car registered under which RTO .\n",
    "* Insurance:expiry date of the insurance if any.\n",
    "* Insurance_Type: Different types insurance availed by owner.\n",
    "\n",
    "#### Target:\n",
    "\n",
    "* Price:Price of the used car.\n",
    "\n",
    "**Task:** Required r2score is 0.85 on test data. Split data into 80-20 percent.\n",
    " Apply the different regression techniques like\n",
    "\n",
    "1. Linear regression\n",
    "2. Lasso\n",
    "3. Ridge\n",
    "4. Polynomial\n",
    "5. Decision tree\n",
    "6. Random forests\n",
    "7. Xgboost"
   ]
  },
  {
   "cell_type": "code",
   "execution_count": 1,
   "id": "84fe7faf",
   "metadata": {},
   "outputs": [],
   "source": [
    "# Importing required libraries\n",
    "import numpy as np\n",
    "import pandas as pd\n",
    "pd.set_option('display.max_columns', None)\n",
    "import matplotlib.pyplot as plt\n",
    "%matplotlib inline\n",
    "\n",
    "import seaborn as sns"
   ]
  },
  {
   "cell_type": "code",
   "execution_count": 2,
   "id": "78a89307",
   "metadata": {},
   "outputs": [
    {
     "data": {
      "text/html": [
       "<div>\n",
       "<style scoped>\n",
       "    .dataframe tbody tr th:only-of-type {\n",
       "        vertical-align: middle;\n",
       "    }\n",
       "\n",
       "    .dataframe tbody tr th {\n",
       "        vertical-align: top;\n",
       "    }\n",
       "\n",
       "    .dataframe thead th {\n",
       "        text-align: right;\n",
       "    }\n",
       "</style>\n",
       "<table border=\"1\" class=\"dataframe\">\n",
       "  <thead>\n",
       "    <tr style=\"text-align: right;\">\n",
       "      <th></th>\n",
       "      <th>Name</th>\n",
       "      <th>Price</th>\n",
       "      <th>Rating</th>\n",
       "      <th>city</th>\n",
       "      <th>Kilometers</th>\n",
       "      <th>Year_of_Purchase</th>\n",
       "      <th>Owner</th>\n",
       "      <th>Fuel_Type</th>\n",
       "      <th>Transmission</th>\n",
       "      <th>RTO</th>\n",
       "      <th>Insurance</th>\n",
       "      <th>Insurance_Type</th>\n",
       "    </tr>\n",
       "  </thead>\n",
       "  <tbody>\n",
       "    <tr>\n",
       "      <th>0</th>\n",
       "      <td>2010 Maruti Alto LXI</td>\n",
       "      <td>₹ 174,699</td>\n",
       "      <td>4out of 5</td>\n",
       "      <td>3686</td>\n",
       "      <td>Kilometers34,854 km</td>\n",
       "      <td>Year of PurchaseMay 2010</td>\n",
       "      <td>OwnerFirst Owner</td>\n",
       "      <td>FuelPetrol</td>\n",
       "      <td>TransmissionMANUAL</td>\n",
       "      <td>RTOAP09</td>\n",
       "      <td>NaN</td>\n",
       "      <td>Insurance TypeInsurance Expired</td>\n",
       "    </tr>\n",
       "    <tr>\n",
       "      <th>1</th>\n",
       "      <td>2013 Maruti Wagon R 1.0 VXI</td>\n",
       "      <td>₹ 333,999</td>\n",
       "      <td>4.2out of 5</td>\n",
       "      <td>3686</td>\n",
       "      <td>Kilometers39,541 km</td>\n",
       "      <td>Year of PurchaseJuly 2013</td>\n",
       "      <td>OwnerSecond Owner</td>\n",
       "      <td>FuelPetrol</td>\n",
       "      <td>TransmissionMANUAL</td>\n",
       "      <td>RTOAP28</td>\n",
       "      <td>Insurance6/8/2021</td>\n",
       "      <td>Insurance TypeComp</td>\n",
       "    </tr>\n",
       "    <tr>\n",
       "      <th>2</th>\n",
       "      <td>2014 Maruti Wagon R 1.0 VXI</td>\n",
       "      <td>₹ 353,199</td>\n",
       "      <td>4.3out of 5</td>\n",
       "      <td>3686</td>\n",
       "      <td>Kilometers23,233 km</td>\n",
       "      <td>Year of PurchaseMarch 2014</td>\n",
       "      <td>OwnerSecond Owner</td>\n",
       "      <td>FuelPetrol</td>\n",
       "      <td>TransmissionMANUAL</td>\n",
       "      <td>RTOAP28</td>\n",
       "      <td>Insurance28/4/2021</td>\n",
       "      <td>Insurance TypeComp</td>\n",
       "    </tr>\n",
       "    <tr>\n",
       "      <th>3</th>\n",
       "      <td>2013 Hyundai Eon D LITE PLUS</td>\n",
       "      <td>₹ 237,899</td>\n",
       "      <td>4.4out of 5</td>\n",
       "      <td>3686</td>\n",
       "      <td>Kilometers27,748 km</td>\n",
       "      <td>Year of PurchaseNovember 2013</td>\n",
       "      <td>OwnerFirst Owner</td>\n",
       "      <td>FuelPetrol</td>\n",
       "      <td>TransmissionMANUAL</td>\n",
       "      <td>RTOAP13</td>\n",
       "      <td>Insurance1/1/2022</td>\n",
       "      <td>Insurance TypeComp</td>\n",
       "    </tr>\n",
       "    <tr>\n",
       "      <th>4</th>\n",
       "      <td>2017 Hyundai Eon ERA PLUS</td>\n",
       "      <td>₹ 300,699</td>\n",
       "      <td>4.4out of 5</td>\n",
       "      <td>3686</td>\n",
       "      <td>Kilometers12,238 km</td>\n",
       "      <td>Year of PurchaseAugust 2017</td>\n",
       "      <td>OwnerSecond Owner</td>\n",
       "      <td>FuelPetrol</td>\n",
       "      <td>TransmissionMANUAL</td>\n",
       "      <td>RTOTS10</td>\n",
       "      <td>NaN</td>\n",
       "      <td>Insurance TypeExpired</td>\n",
       "    </tr>\n",
       "  </tbody>\n",
       "</table>\n",
       "</div>"
      ],
      "text/plain": [
       "                           Name      Price       Rating  city  \\\n",
       "0          2010 Maruti Alto LXI  ₹ 174,699    4out of 5  3686   \n",
       "1   2013 Maruti Wagon R 1.0 VXI  ₹ 333,999  4.2out of 5  3686   \n",
       "2   2014 Maruti Wagon R 1.0 VXI  ₹ 353,199  4.3out of 5  3686   \n",
       "3  2013 Hyundai Eon D LITE PLUS  ₹ 237,899  4.4out of 5  3686   \n",
       "4     2017 Hyundai Eon ERA PLUS  ₹ 300,699  4.4out of 5  3686   \n",
       "\n",
       "            Kilometers               Year_of_Purchase              Owner  \\\n",
       "0  Kilometers34,854 km       Year of PurchaseMay 2010   OwnerFirst Owner   \n",
       "1  Kilometers39,541 km      Year of PurchaseJuly 2013  OwnerSecond Owner   \n",
       "2  Kilometers23,233 km     Year of PurchaseMarch 2014  OwnerSecond Owner   \n",
       "3  Kilometers27,748 km  Year of PurchaseNovember 2013   OwnerFirst Owner   \n",
       "4  Kilometers12,238 km    Year of PurchaseAugust 2017  OwnerSecond Owner   \n",
       "\n",
       "    Fuel_Type        Transmission      RTO           Insurance  \\\n",
       "0  FuelPetrol  TransmissionMANUAL  RTOAP09                 NaN   \n",
       "1  FuelPetrol  TransmissionMANUAL  RTOAP28   Insurance6/8/2021   \n",
       "2  FuelPetrol  TransmissionMANUAL  RTOAP28  Insurance28/4/2021   \n",
       "3  FuelPetrol  TransmissionMANUAL  RTOAP13   Insurance1/1/2022   \n",
       "4  FuelPetrol  TransmissionMANUAL  RTOTS10                 NaN   \n",
       "\n",
       "                    Insurance_Type  \n",
       "0  Insurance TypeInsurance Expired  \n",
       "1               Insurance TypeComp  \n",
       "2               Insurance TypeComp  \n",
       "3               Insurance TypeComp  \n",
       "4            Insurance TypeExpired  "
      ]
     },
     "execution_count": 2,
     "metadata": {},
     "output_type": "execute_result"
    }
   ],
   "source": [
    "# Importing the dataset\n",
    "data = pd.read_csv('cars_datafinal - Sheet1.csv')\n",
    "data.head()"
   ]
  },
  {
   "cell_type": "code",
   "execution_count": 3,
   "id": "73e60a1b",
   "metadata": {},
   "outputs": [
    {
     "data": {
      "text/plain": [
       "(32158, 12)"
      ]
     },
     "execution_count": 3,
     "metadata": {},
     "output_type": "execute_result"
    }
   ],
   "source": [
    "# Get shape of the data\n",
    "data.shape"
   ]
  },
  {
   "cell_type": "code",
   "execution_count": 4,
   "id": "ecbd168d",
   "metadata": {},
   "outputs": [
    {
     "data": {
      "text/plain": [
       "Index(['Name', 'Price', 'Rating', 'city', 'Kilometers', 'Year_of_Purchase',\n",
       "       'Owner', 'Fuel_Type', 'Transmission', 'RTO', 'Insurance',\n",
       "       'Insurance_Type'],\n",
       "      dtype='object')"
      ]
     },
     "execution_count": 4,
     "metadata": {},
     "output_type": "execute_result"
    }
   ],
   "source": [
    "# To see the columns Name\n",
    "data.keys()"
   ]
  },
  {
   "cell_type": "code",
   "execution_count": 5,
   "id": "e2c9248a",
   "metadata": {},
   "outputs": [
    {
     "name": "stdout",
     "output_type": "stream",
     "text": [
      "<class 'pandas.core.frame.DataFrame'>\n",
      "RangeIndex: 32158 entries, 0 to 32157\n",
      "Data columns (total 12 columns):\n",
      " #   Column            Non-Null Count  Dtype \n",
      "---  ------            --------------  ----- \n",
      " 0   Name              32158 non-null  object\n",
      " 1   Price             32158 non-null  object\n",
      " 2   Rating            32158 non-null  object\n",
      " 3   city              32158 non-null  int64 \n",
      " 4   Kilometers        32158 non-null  object\n",
      " 5   Year_of_Purchase  32158 non-null  object\n",
      " 6   Owner             32158 non-null  object\n",
      " 7   Fuel_Type         32158 non-null  object\n",
      " 8   Transmission      29342 non-null  object\n",
      " 9   RTO               32158 non-null  object\n",
      " 10  Insurance         22965 non-null  object\n",
      " 11  Insurance_Type    32158 non-null  object\n",
      "dtypes: int64(1), object(11)\n",
      "memory usage: 2.9+ MB\n"
     ]
    }
   ],
   "source": [
    "# View the short summary\n",
    "data.info()"
   ]
  },
  {
   "cell_type": "code",
   "execution_count": 6,
   "id": "86690de4",
   "metadata": {},
   "outputs": [
    {
     "data": {
      "text/plain": [
       "Name                   0\n",
       "Price                  0\n",
       "Rating                 0\n",
       "city                   0\n",
       "Kilometers             0\n",
       "Year_of_Purchase       0\n",
       "Owner                  0\n",
       "Fuel_Type              0\n",
       "Transmission        2816\n",
       "RTO                    0\n",
       "Insurance           9193\n",
       "Insurance_Type         0\n",
       "dtype: int64"
      ]
     },
     "execution_count": 6,
     "metadata": {},
     "output_type": "execute_result"
    }
   ],
   "source": [
    "# Checking the Missing values\n",
    "data.isna().sum()"
   ]
  },
  {
   "cell_type": "markdown",
   "id": "0dc93fdc",
   "metadata": {},
   "source": [
    "# Feautres Engineering :-\n",
    "\n",
    "### Data Cleaning"
   ]
  },
  {
   "cell_type": "markdown",
   "id": "81eef0a2",
   "metadata": {},
   "source": [
    "## Removing Special character in price column"
   ]
  },
  {
   "cell_type": "code",
   "execution_count": 7,
   "id": "2c67c8fe",
   "metadata": {},
   "outputs": [
    {
     "name": "stderr",
     "output_type": "stream",
     "text": [
      "<ipython-input-7-0b90577a142f>:1: FutureWarning: The default value of regex will change from True to False in a future version.\n",
      "  data['Price'] = data['Price'].str.replace(r'\\W',\"\")\n"
     ]
    }
   ],
   "source": [
    "data['Price'] = data['Price'].str.replace(r'\\W',\"\")"
   ]
  },
  {
   "cell_type": "markdown",
   "id": "1ce776d3",
   "metadata": {},
   "source": [
    "## Column Rating"
   ]
  },
  {
   "cell_type": "code",
   "execution_count": 8,
   "id": "019f387a",
   "metadata": {},
   "outputs": [],
   "source": [
    "# I want to remove (out of 5) string present in Rating column.\n",
    "data['Rating'] = data['Rating'].str.replace('out of 5',\"\")"
   ]
  },
  {
   "cell_type": "markdown",
   "id": "2e45e949",
   "metadata": {},
   "source": [
    "### In Kilometers features i removed the extra Kilometers and km string or special character"
   ]
  },
  {
   "cell_type": "code",
   "execution_count": 9,
   "id": "7566efd4",
   "metadata": {},
   "outputs": [
    {
     "name": "stderr",
     "output_type": "stream",
     "text": [
      "<ipython-input-9-d680384c4f3d>:5: FutureWarning: The default value of regex will change from True to False in a future version.\n",
      "  data['Kilometers'] = data['Kilometers'].str.replace(r'\\W',\"\")\n"
     ]
    }
   ],
   "source": [
    "data['Kilometers'] = data['Kilometers'].str.replace('Kilometers',\"\")\n",
    "\n",
    "data['Kilometers'] = data['Kilometers'].str.replace('km',\"\")\n",
    "\n",
    "data['Kilometers'] = data['Kilometers'].str.replace(r'\\W',\"\")"
   ]
  },
  {
   "cell_type": "markdown",
   "id": "f9274762",
   "metadata": {},
   "source": [
    "## Remove extra Year of Purchase writen by Year_of_Purchase column"
   ]
  },
  {
   "cell_type": "code",
   "execution_count": 10,
   "id": "3fb29912",
   "metadata": {},
   "outputs": [],
   "source": [
    "data['Year_of_Purchase'] = data['Year_of_Purchase'].str.replace('Year of Purchase',\"\")"
   ]
  },
  {
   "cell_type": "markdown",
   "id": "b6737db0",
   "metadata": {},
   "source": [
    "### Year_of_Purchase (Change month year column)"
   ]
  },
  {
   "cell_type": "code",
   "execution_count": 11,
   "id": "e9071344",
   "metadata": {},
   "outputs": [],
   "source": [
    "data['Year_of_Purchase'] = pd.to_datetime(data['Year_of_Purchase'])\n",
    "\n",
    "#data['Year_of_Purchase'] = pd.to_numeric(pd.to_datetime(data['Year_of_Purchase']))\n",
    "\n",
    "data['year'] = data['Year_of_Purchase'].dt.year\n",
    "data['month'] = data['Year_of_Purchase'].dt.month\n",
    "#data['Day'] = data['Year_of_Purchase'].dt.month\n",
    "\n",
    "#data['Year_of_Purchase'] = data['Year_of_Purchase'].apply(lambda x: x.strftime('%Y-%m'))"
   ]
  },
  {
   "cell_type": "markdown",
   "id": "4e2bbbc8",
   "metadata": {},
   "source": [
    "### Droping Year_of_Purchase column"
   ]
  },
  {
   "cell_type": "code",
   "execution_count": 12,
   "id": "f6174ce1",
   "metadata": {},
   "outputs": [],
   "source": [
    "data.drop(['Year_of_Purchase'], axis='columns',inplace=True)"
   ]
  },
  {
   "cell_type": "code",
   "execution_count": 13,
   "id": "71172dda",
   "metadata": {},
   "outputs": [
    {
     "name": "stdout",
     "output_type": "stream",
     "text": [
      "<class 'pandas.core.frame.DataFrame'>\n",
      "RangeIndex: 32158 entries, 0 to 32157\n",
      "Data columns (total 13 columns):\n",
      " #   Column          Non-Null Count  Dtype \n",
      "---  ------          --------------  ----- \n",
      " 0   Name            32158 non-null  object\n",
      " 1   Price           32158 non-null  object\n",
      " 2   Rating          32158 non-null  object\n",
      " 3   city            32158 non-null  int64 \n",
      " 4   Kilometers      32158 non-null  object\n",
      " 5   Owner           32158 non-null  object\n",
      " 6   Fuel_Type       32158 non-null  object\n",
      " 7   Transmission    29342 non-null  object\n",
      " 8   RTO             32158 non-null  object\n",
      " 9   Insurance       22965 non-null  object\n",
      " 10  Insurance_Type  32158 non-null  object\n",
      " 11  year            32158 non-null  int64 \n",
      " 12  month           32158 non-null  int64 \n",
      "dtypes: int64(3), object(10)\n",
      "memory usage: 3.2+ MB\n"
     ]
    }
   ],
   "source": [
    "data.info()"
   ]
  },
  {
   "cell_type": "markdown",
   "id": "932c26a0",
   "metadata": {},
   "source": [
    "## Column Fuel_Type"
   ]
  },
  {
   "cell_type": "code",
   "execution_count": 14,
   "id": "555d7b45",
   "metadata": {},
   "outputs": [],
   "source": [
    "data['Fuel_Type'] = data['Fuel_Type'].str.replace('Fuel',\"\")"
   ]
  },
  {
   "cell_type": "markdown",
   "id": "dc8fd9d4",
   "metadata": {},
   "source": [
    "## Column Transmission\n",
    "\n",
    "Firstly we need to clean the column (Remove extra Transmission written by our features) or Encoded the column convert into Categorical to Numeric"
   ]
  },
  {
   "cell_type": "code",
   "execution_count": 15,
   "id": "117d7941",
   "metadata": {},
   "outputs": [],
   "source": [
    "### Removing the extra Transmission string in our column\n",
    "data['Transmission'] = data['Transmission'].str.replace('Transmission',\"\")"
   ]
  },
  {
   "cell_type": "markdown",
   "id": "eee128c7",
   "metadata": {},
   "source": [
    "### Column Insurance"
   ]
  },
  {
   "cell_type": "code",
   "execution_count": 16,
   "id": "dcdc9fc3",
   "metadata": {},
   "outputs": [],
   "source": [
    "### Removing the extra Insurance string in our column\n",
    "data['Insurance'] = data['Insurance'].str.replace('Insurance',\"\")"
   ]
  },
  {
   "cell_type": "markdown",
   "id": "01e8edbb",
   "metadata": {},
   "source": [
    "### Column Insurance_Type\n"
   ]
  },
  {
   "cell_type": "code",
   "execution_count": 17,
   "id": "18cea790",
   "metadata": {},
   "outputs": [],
   "source": [
    "### Removing the extra Insurance string in our column\n",
    "data['Insurance_Type'] = data['Insurance_Type'].str.replace('Insurance Type',\"\")\n",
    "data['Insurance_Type'] = data['Insurance_Type'].str.replace('Insurance',\"\")\n",
    "\n",
    "\n",
    "### For removing space in the string\n",
    "data['Insurance_Type'] = data['Insurance_Type'].str.replace(\" \",\"\")"
   ]
  },
  {
   "cell_type": "markdown",
   "id": "e310a572",
   "metadata": {},
   "source": [
    "## Column Owner"
   ]
  },
  {
   "cell_type": "code",
   "execution_count": 18,
   "id": "963fe82b",
   "metadata": {},
   "outputs": [],
   "source": [
    "data['Owner'] = data['Owner'].str.replace('Owner',\"\")"
   ]
  },
  {
   "cell_type": "markdown",
   "id": "a0521ad6",
   "metadata": {},
   "source": [
    "## Column RTO\n",
    "\n",
    "* I am removing the last 2 no's of RTO column"
   ]
  },
  {
   "cell_type": "code",
   "execution_count": 19,
   "id": "0babd58f",
   "metadata": {},
   "outputs": [],
   "source": [
    "numbers = [\"0\",'1',\"2\",\"3\",\"4\",\"5\",\"6\",\"7\",\"8\",\n",
    "              \"9\"]\n",
    "for no in numbers:\n",
    "    data['RTO'] = data['RTO'].str.replace(no, '')"
   ]
  },
  {
   "cell_type": "code",
   "execution_count": 20,
   "id": "7c4f5681",
   "metadata": {},
   "outputs": [
    {
     "data": {
      "text/html": [
       "<div>\n",
       "<style scoped>\n",
       "    .dataframe tbody tr th:only-of-type {\n",
       "        vertical-align: middle;\n",
       "    }\n",
       "\n",
       "    .dataframe tbody tr th {\n",
       "        vertical-align: top;\n",
       "    }\n",
       "\n",
       "    .dataframe thead th {\n",
       "        text-align: right;\n",
       "    }\n",
       "</style>\n",
       "<table border=\"1\" class=\"dataframe\">\n",
       "  <thead>\n",
       "    <tr style=\"text-align: right;\">\n",
       "      <th></th>\n",
       "      <th>Name</th>\n",
       "      <th>Price</th>\n",
       "      <th>Rating</th>\n",
       "      <th>city</th>\n",
       "      <th>Kilometers</th>\n",
       "      <th>Owner</th>\n",
       "      <th>Fuel_Type</th>\n",
       "      <th>Transmission</th>\n",
       "      <th>RTO</th>\n",
       "      <th>Insurance</th>\n",
       "      <th>Insurance_Type</th>\n",
       "      <th>year</th>\n",
       "      <th>month</th>\n",
       "    </tr>\n",
       "  </thead>\n",
       "  <tbody>\n",
       "    <tr>\n",
       "      <th>0</th>\n",
       "      <td>2010 Maruti Alto LXI</td>\n",
       "      <td>174699</td>\n",
       "      <td>4</td>\n",
       "      <td>3686</td>\n",
       "      <td>34854</td>\n",
       "      <td>First</td>\n",
       "      <td>Petrol</td>\n",
       "      <td>MANUAL</td>\n",
       "      <td>RTOAP</td>\n",
       "      <td>NaN</td>\n",
       "      <td>Expired</td>\n",
       "      <td>2010</td>\n",
       "      <td>5</td>\n",
       "    </tr>\n",
       "    <tr>\n",
       "      <th>1</th>\n",
       "      <td>2013 Maruti Wagon R 1.0 VXI</td>\n",
       "      <td>333999</td>\n",
       "      <td>4.2</td>\n",
       "      <td>3686</td>\n",
       "      <td>39541</td>\n",
       "      <td>Second</td>\n",
       "      <td>Petrol</td>\n",
       "      <td>MANUAL</td>\n",
       "      <td>RTOAP</td>\n",
       "      <td>6/8/2021</td>\n",
       "      <td>Comp</td>\n",
       "      <td>2013</td>\n",
       "      <td>7</td>\n",
       "    </tr>\n",
       "  </tbody>\n",
       "</table>\n",
       "</div>"
      ],
      "text/plain": [
       "                          Name   Price Rating  city Kilometers    Owner  \\\n",
       "0         2010 Maruti Alto LXI  174699      4  3686      34854   First    \n",
       "1  2013 Maruti Wagon R 1.0 VXI  333999    4.2  3686      39541  Second    \n",
       "\n",
       "  Fuel_Type Transmission    RTO Insurance Insurance_Type  year  month  \n",
       "0    Petrol       MANUAL  RTOAP       NaN        Expired  2010      5  \n",
       "1    Petrol       MANUAL  RTOAP  6/8/2021           Comp  2013      7  "
      ]
     },
     "execution_count": 20,
     "metadata": {},
     "output_type": "execute_result"
    }
   ],
   "source": [
    "data.head(2)"
   ]
  },
  {
   "cell_type": "markdown",
   "id": "fc8e117a",
   "metadata": {},
   "source": [
    "## column Name"
   ]
  },
  {
   "cell_type": "code",
   "execution_count": 21,
   "id": "ed408217",
   "metadata": {},
   "outputs": [],
   "source": [
    "new = data['Name'].str.split(\" \", n = 2, expand = True)\n",
    "new.columns = ['car_year','Company', 'Model']\n"
   ]
  },
  {
   "cell_type": "code",
   "execution_count": 22,
   "id": "590f859f",
   "metadata": {},
   "outputs": [
    {
     "data": {
      "text/html": [
       "<div>\n",
       "<style scoped>\n",
       "    .dataframe tbody tr th:only-of-type {\n",
       "        vertical-align: middle;\n",
       "    }\n",
       "\n",
       "    .dataframe tbody tr th {\n",
       "        vertical-align: top;\n",
       "    }\n",
       "\n",
       "    .dataframe thead th {\n",
       "        text-align: right;\n",
       "    }\n",
       "</style>\n",
       "<table border=\"1\" class=\"dataframe\">\n",
       "  <thead>\n",
       "    <tr style=\"text-align: right;\">\n",
       "      <th></th>\n",
       "      <th>car_year</th>\n",
       "      <th>Company</th>\n",
       "      <th>Model</th>\n",
       "    </tr>\n",
       "  </thead>\n",
       "  <tbody>\n",
       "    <tr>\n",
       "      <th>0</th>\n",
       "      <td>2010</td>\n",
       "      <td>Maruti</td>\n",
       "      <td>Alto LXI</td>\n",
       "    </tr>\n",
       "  </tbody>\n",
       "</table>\n",
       "</div>"
      ],
      "text/plain": [
       "  car_year Company     Model\n",
       "0     2010  Maruti  Alto LXI"
      ]
     },
     "execution_count": 22,
     "metadata": {},
     "output_type": "execute_result"
    }
   ],
   "source": [
    "new.head(1)"
   ]
  },
  {
   "cell_type": "code",
   "execution_count": 23,
   "id": "d442d06c",
   "metadata": {},
   "outputs": [
    {
     "name": "stdout",
     "output_type": "stream",
     "text": [
      "['maruti' 'hyundai' 'honda' 'chevrolet' 'ford' 'renault' 'volkswagen'\n",
      " 'tata' 'mahindra' 'toyota' 'datsun' 'mitsubishi' 'nissan' 'kia' 'fiat'\n",
      " 'skoda' 'opel' 'mg' 'volvo' 'jeep' 'mercedes' 'ssangyong' 'bmw' 'audi'\n",
      " 'daewoo' 'jaguar' 'landrover' 'force' 'isuzu' 'porsche' 'premier'\n",
      " 'hindustan' 'icml']\n",
      "['alto lxi' 'wagon r 1.0 vxi' 'eon d lite plus' ...\n",
      " 'scorpio vlx at bs iii' 'baleno rs 1.0' 'ciaz s 1.4']\n"
     ]
    }
   ],
   "source": [
    "new['Company'] = new['Company'].str.lower()\n",
    "new['Model'] = new['Model'].str.lower()\n",
    "print(new['Company'].unique())\n",
    "print(new['Model'].unique())"
   ]
  },
  {
   "cell_type": "code",
   "execution_count": 24,
   "id": "be3d7c9d",
   "metadata": {},
   "outputs": [
    {
     "data": {
      "text/html": [
       "<div>\n",
       "<style scoped>\n",
       "    .dataframe tbody tr th:only-of-type {\n",
       "        vertical-align: middle;\n",
       "    }\n",
       "\n",
       "    .dataframe tbody tr th {\n",
       "        vertical-align: top;\n",
       "    }\n",
       "\n",
       "    .dataframe thead th {\n",
       "        text-align: right;\n",
       "    }\n",
       "</style>\n",
       "<table border=\"1\" class=\"dataframe\">\n",
       "  <thead>\n",
       "    <tr style=\"text-align: right;\">\n",
       "      <th></th>\n",
       "      <th>Company</th>\n",
       "      <th>Model</th>\n",
       "    </tr>\n",
       "  </thead>\n",
       "  <tbody>\n",
       "    <tr>\n",
       "      <th>0</th>\n",
       "      <td>maruti</td>\n",
       "      <td>alto lxi</td>\n",
       "    </tr>\n",
       "  </tbody>\n",
       "</table>\n",
       "</div>"
      ],
      "text/plain": [
       "  Company     Model\n",
       "0  maruti  alto lxi"
      ]
     },
     "execution_count": 24,
     "metadata": {},
     "output_type": "execute_result"
    }
   ],
   "source": [
    "new = new.drop(['car_year'],axis='columns')\n",
    "new.head(1)"
   ]
  },
  {
   "cell_type": "code",
   "execution_count": 25,
   "id": "bcad9245",
   "metadata": {},
   "outputs": [
    {
     "data": {
      "text/html": [
       "<div>\n",
       "<style scoped>\n",
       "    .dataframe tbody tr th:only-of-type {\n",
       "        vertical-align: middle;\n",
       "    }\n",
       "\n",
       "    .dataframe tbody tr th {\n",
       "        vertical-align: top;\n",
       "    }\n",
       "\n",
       "    .dataframe thead th {\n",
       "        text-align: right;\n",
       "    }\n",
       "</style>\n",
       "<table border=\"1\" class=\"dataframe\">\n",
       "  <thead>\n",
       "    <tr style=\"text-align: right;\">\n",
       "      <th></th>\n",
       "      <th>Price</th>\n",
       "      <th>Rating</th>\n",
       "      <th>city</th>\n",
       "      <th>Kilometers</th>\n",
       "      <th>Owner</th>\n",
       "      <th>Fuel_Type</th>\n",
       "      <th>Transmission</th>\n",
       "      <th>RTO</th>\n",
       "      <th>Insurance</th>\n",
       "      <th>Insurance_Type</th>\n",
       "      <th>year</th>\n",
       "      <th>month</th>\n",
       "      <th>Company</th>\n",
       "      <th>Model</th>\n",
       "    </tr>\n",
       "  </thead>\n",
       "  <tbody>\n",
       "    <tr>\n",
       "      <th>0</th>\n",
       "      <td>174699</td>\n",
       "      <td>4</td>\n",
       "      <td>3686</td>\n",
       "      <td>34854</td>\n",
       "      <td>First</td>\n",
       "      <td>Petrol</td>\n",
       "      <td>MANUAL</td>\n",
       "      <td>RTOAP</td>\n",
       "      <td>NaN</td>\n",
       "      <td>Expired</td>\n",
       "      <td>2010</td>\n",
       "      <td>5</td>\n",
       "      <td>maruti</td>\n",
       "      <td>alto lxi</td>\n",
       "    </tr>\n",
       "    <tr>\n",
       "      <th>1</th>\n",
       "      <td>333999</td>\n",
       "      <td>4.2</td>\n",
       "      <td>3686</td>\n",
       "      <td>39541</td>\n",
       "      <td>Second</td>\n",
       "      <td>Petrol</td>\n",
       "      <td>MANUAL</td>\n",
       "      <td>RTOAP</td>\n",
       "      <td>6/8/2021</td>\n",
       "      <td>Comp</td>\n",
       "      <td>2013</td>\n",
       "      <td>7</td>\n",
       "      <td>maruti</td>\n",
       "      <td>wagon r 1.0 vxi</td>\n",
       "    </tr>\n",
       "  </tbody>\n",
       "</table>\n",
       "</div>"
      ],
      "text/plain": [
       "    Price Rating  city Kilometers    Owner Fuel_Type Transmission    RTO  \\\n",
       "0  174699      4  3686      34854   First     Petrol       MANUAL  RTOAP   \n",
       "1  333999    4.2  3686      39541  Second     Petrol       MANUAL  RTOAP   \n",
       "\n",
       "  Insurance Insurance_Type  year  month Company            Model  \n",
       "0       NaN        Expired  2010      5  maruti         alto lxi  \n",
       "1  6/8/2021           Comp  2013      7  maruti  wagon r 1.0 vxi  "
      ]
     },
     "execution_count": 25,
     "metadata": {},
     "output_type": "execute_result"
    }
   ],
   "source": [
    "#new = pd.get_dummies(new['Company'], drop_first=True)\n",
    "data = pd.concat([data,new], axis='columns')\n",
    "data = data.drop(['Name'],axis='columns')\n",
    "pd.set_option('display.max_columns', None)\n",
    "data.head(2)"
   ]
  },
  {
   "cell_type": "code",
   "execution_count": null,
   "id": "2d874262",
   "metadata": {},
   "outputs": [],
   "source": [
    "data.to_csv('Cars24new.csv',index=False,)"
   ]
  },
  {
   "cell_type": "markdown",
   "id": "7ed72ef5",
   "metadata": {},
   "source": [
    "# ------------------------------Saved csv ---------------------------------------"
   ]
  }
 ],
 "metadata": {
  "kernelspec": {
   "display_name": "Python 3",
   "language": "python",
   "name": "python3"
  },
  "language_info": {
   "codemirror_mode": {
    "name": "ipython",
    "version": 3
   },
   "file_extension": ".py",
   "mimetype": "text/x-python",
   "name": "python",
   "nbconvert_exporter": "python",
   "pygments_lexer": "ipython3",
   "version": "3.8.10"
  }
 },
 "nbformat": 4,
 "nbformat_minor": 5
}
